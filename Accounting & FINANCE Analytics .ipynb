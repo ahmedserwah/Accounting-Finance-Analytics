{
 "cells": [
  {
   "cell_type": "markdown",
   "id": "899588d8",
   "metadata": {},
   "source": [
    "## FINANCE &ACCOUNTING ANALYTICS\n"
   ]
  },
  {
   "cell_type": "code",
   "execution_count": 6,
   "id": "4b2d13cf",
   "metadata": {},
   "outputs": [],
   "source": [
    "#IMPORTING LIBARIES \n",
    "import pandas as pd \n",
    "import matplotlib.pyplot as plt \n",
    "import numpy as np "
   ]
  },
  {
   "cell_type": "code",
   "execution_count": 7,
   "id": "c6d85c11",
   "metadata": {},
   "outputs": [],
   "source": [
    "#READ DATAFRAME \n",
    "df=pd.read_csv('RejectStatsA Ready.csv')"
   ]
  },
  {
   "cell_type": "code",
   "execution_count": 8,
   "id": "72ece07a",
   "metadata": {},
   "outputs": [
    {
     "data": {
      "text/html": [
       "<div>\n",
       "<style scoped>\n",
       "    .dataframe tbody tr th:only-of-type {\n",
       "        vertical-align: middle;\n",
       "    }\n",
       "\n",
       "    .dataframe tbody tr th {\n",
       "        vertical-align: top;\n",
       "    }\n",
       "\n",
       "    .dataframe thead th {\n",
       "        text-align: right;\n",
       "    }\n",
       "</style>\n",
       "<table border=\"1\" class=\"dataframe\">\n",
       "  <thead>\n",
       "    <tr style=\"text-align: right;\">\n",
       "      <th></th>\n",
       "      <th>Amount Requested</th>\n",
       "      <th>Application Date</th>\n",
       "      <th>Loan Title</th>\n",
       "      <th>Risk_Score</th>\n",
       "      <th>Debt-To-Income Ratio</th>\n",
       "      <th>Zip Code</th>\n",
       "      <th>State</th>\n",
       "      <th>Employment Length</th>\n",
       "      <th>Policy Code</th>\n",
       "    </tr>\n",
       "  </thead>\n",
       "  <tbody>\n",
       "    <tr>\n",
       "      <th>0</th>\n",
       "      <td>1000.0</td>\n",
       "      <td>26/5/2007</td>\n",
       "      <td>Wedding Covered but No Honeymoon</td>\n",
       "      <td>693.0</td>\n",
       "      <td>10%</td>\n",
       "      <td>481xx</td>\n",
       "      <td>NM</td>\n",
       "      <td>4 years</td>\n",
       "      <td>0</td>\n",
       "    </tr>\n",
       "    <tr>\n",
       "      <th>1</th>\n",
       "      <td>1000.0</td>\n",
       "      <td>26/5/2007</td>\n",
       "      <td>Consolidating Debt</td>\n",
       "      <td>703.0</td>\n",
       "      <td>10%</td>\n",
       "      <td>010xx</td>\n",
       "      <td>MA</td>\n",
       "      <td>&lt; 1 year</td>\n",
       "      <td>0</td>\n",
       "    </tr>\n",
       "    <tr>\n",
       "      <th>2</th>\n",
       "      <td>11000.0</td>\n",
       "      <td>27/5/2007</td>\n",
       "      <td>Want to consolidate my debt</td>\n",
       "      <td>715.0</td>\n",
       "      <td>10%</td>\n",
       "      <td>212xx</td>\n",
       "      <td>MD</td>\n",
       "      <td>1 year</td>\n",
       "      <td>0</td>\n",
       "    </tr>\n",
       "    <tr>\n",
       "      <th>3</th>\n",
       "      <td>6000.0</td>\n",
       "      <td>27/5/2007</td>\n",
       "      <td>waksman</td>\n",
       "      <td>698.0</td>\n",
       "      <td>38.64%</td>\n",
       "      <td>017xx</td>\n",
       "      <td>MA</td>\n",
       "      <td>&lt; 1 year</td>\n",
       "      <td>0</td>\n",
       "    </tr>\n",
       "    <tr>\n",
       "      <th>4</th>\n",
       "      <td>1500.0</td>\n",
       "      <td>27/5/2007</td>\n",
       "      <td>mdrigo</td>\n",
       "      <td>509.0</td>\n",
       "      <td>9.43%</td>\n",
       "      <td>209xx</td>\n",
       "      <td>MD</td>\n",
       "      <td>&lt; 1 year</td>\n",
       "      <td>0</td>\n",
       "    </tr>\n",
       "  </tbody>\n",
       "</table>\n",
       "</div>"
      ],
      "text/plain": [
       "   Amount Requested Application Date                        Loan Title  \\\n",
       "0            1000.0        26/5/2007  Wedding Covered but No Honeymoon   \n",
       "1            1000.0        26/5/2007                Consolidating Debt   \n",
       "2           11000.0        27/5/2007       Want to consolidate my debt   \n",
       "3            6000.0        27/5/2007                           waksman   \n",
       "4            1500.0        27/5/2007                            mdrigo   \n",
       "\n",
       "   Risk_Score Debt-To-Income Ratio Zip Code State Employment Length  \\\n",
       "0       693.0                  10%    481xx    NM           4 years   \n",
       "1       703.0                  10%    010xx    MA          < 1 year   \n",
       "2       715.0                  10%    212xx    MD            1 year   \n",
       "3       698.0               38.64%    017xx    MA          < 1 year   \n",
       "4       509.0                9.43%    209xx    MD          < 1 year   \n",
       "\n",
       "   Policy Code  \n",
       "0            0  \n",
       "1            0  \n",
       "2            0  \n",
       "3            0  \n",
       "4            0  "
      ]
     },
     "execution_count": 8,
     "metadata": {},
     "output_type": "execute_result"
    }
   ],
   "source": [
    "#FIRST 5 ROWS \n",
    "df.head()"
   ]
  },
  {
   "cell_type": "code",
   "execution_count": 145,
   "id": "17717be5",
   "metadata": {},
   "outputs": [],
   "source": [
    "#conditionsFOR RISK SCORE \n",
    "conditions = [\n",
    "    (df['Risk_Score'] >= 800) &(df['Risk_Score']<=850),\n",
    "    (df['Risk_Score'] >= 750) & (df['Risk_Score'] <=799),\n",
    "    (df['Risk_Score'] >= 700) & (df['Risk_Score'] <= 749),\n",
    "    (df['Risk_Score'] >= 650) &(df['Risk_Score']<= 699),\n",
    "    (df['Risk_Score'] >=600)  &(df['Risk_Score']<=649),\n",
    "    (df['Risk_Score'] >=300)  &(df['Risk_Score']<=599)]"
   ]
  },
  {
   "cell_type": "code",
   "execution_count": 138,
   "id": "398b721c",
   "metadata": {},
   "outputs": [],
   "source": [
    "# values \n",
    "values=['excellent', 'very good', 'good', 'fair','poor','very bad']"
   ]
  },
  {
   "cell_type": "code",
   "execution_count": 139,
   "id": "65c38008",
   "metadata": {},
   "outputs": [],
   "source": [
    "cond=[\n",
    "    (df['Debt-To-Income Ratio']> '20%'),\n",
    "    (df['Debt-To-Income Ratio']>='10%')&(df['Debt-To-Income Ratio']<='20%'),\n",
    "    (df['Debt-To-Income Ratio']<'10%')\n",
    "]"
   ]
  },
  {
   "cell_type": "code",
   "execution_count": 140,
   "id": "1b44fb5c",
   "metadata": {},
   "outputs": [],
   "source": [
    "val=['high','medium','low']"
   ]
  },
  {
   "cell_type": "code",
   "execution_count": 141,
   "id": "0a848f95",
   "metadata": {},
   "outputs": [],
   "source": [
    "df['DTl']=np.select(cond,val)"
   ]
  },
  {
   "cell_type": "code",
   "execution_count": 142,
   "id": "8af35fdd",
   "metadata": {},
   "outputs": [],
   "source": [
    "## ADD NEW COLUMN BASED ON CON,VAL USING NP.SELECT \n",
    "df['risk_category'] = np.select(conditions, values)\n"
   ]
  },
  {
   "cell_type": "code",
   "execution_count": 143,
   "id": "682993d4",
   "metadata": {},
   "outputs": [
    {
     "data": {
      "text/plain": [
       "0                      266944\n",
       "fair                   230626\n",
       "very bad               191377\n",
       "poor                   174060\n",
       "good                   106058\n",
       "not possible to cal     52627\n",
       "very good               23502\n",
       "excellent                3381\n",
       "Name: risk_category, dtype: int64"
      ]
     },
     "execution_count": 143,
     "metadata": {},
     "output_type": "execute_result"
    }
   ],
   "source": [
    "#CHECKING \n",
    "df['risk_category'].value_counts()"
   ]
  },
  {
   "cell_type": "code",
   "execution_count": 111,
   "id": "1f2e99b4",
   "metadata": {},
   "outputs": [],
   "source": [
    "# filter data only to CA\n",
    "ca=df[df['State']=='CA']"
   ]
  },
  {
   "cell_type": "code",
   "execution_count": 112,
   "id": "be526dc3",
   "metadata": {},
   "outputs": [
    {
     "data": {
      "text/html": [
       "<div>\n",
       "<style scoped>\n",
       "    .dataframe tbody tr th:only-of-type {\n",
       "        vertical-align: middle;\n",
       "    }\n",
       "\n",
       "    .dataframe tbody tr th {\n",
       "        vertical-align: top;\n",
       "    }\n",
       "\n",
       "    .dataframe thead th {\n",
       "        text-align: right;\n",
       "    }\n",
       "</style>\n",
       "<table border=\"1\" class=\"dataframe\">\n",
       "  <thead>\n",
       "    <tr style=\"text-align: right;\">\n",
       "      <th></th>\n",
       "      <th>Amount Requested</th>\n",
       "      <th>Application Date</th>\n",
       "      <th>Loan Title</th>\n",
       "      <th>Risk_Score</th>\n",
       "      <th>Debt-To-Income Ratio</th>\n",
       "      <th>Zip Code</th>\n",
       "      <th>State</th>\n",
       "      <th>Employment Length</th>\n",
       "      <th>Policy Code</th>\n",
       "      <th>risk_category</th>\n",
       "      <th>row_num</th>\n",
       "      <th>DTl</th>\n",
       "    </tr>\n",
       "  </thead>\n",
       "  <tbody>\n",
       "    <tr>\n",
       "      <th>32</th>\n",
       "      <td>7000.0</td>\n",
       "      <td>30/5/2007</td>\n",
       "      <td>big fat lender</td>\n",
       "      <td>638.0</td>\n",
       "      <td>17.73%</td>\n",
       "      <td>941xx</td>\n",
       "      <td>CA</td>\n",
       "      <td>&lt; 1 year</td>\n",
       "      <td>0</td>\n",
       "      <td>poor</td>\n",
       "      <td>32</td>\n",
       "      <td>medium</td>\n",
       "    </tr>\n",
       "    <tr>\n",
       "      <th>38</th>\n",
       "      <td>6000.0</td>\n",
       "      <td>30/5/2007</td>\n",
       "      <td>Good Heart Bad Credit!</td>\n",
       "      <td>463.0</td>\n",
       "      <td>12.34%</td>\n",
       "      <td>953xx</td>\n",
       "      <td>CA</td>\n",
       "      <td>1 year</td>\n",
       "      <td>0</td>\n",
       "      <td>very bad</td>\n",
       "      <td>38</td>\n",
       "      <td>medium</td>\n",
       "    </tr>\n",
       "    <tr>\n",
       "      <th>216</th>\n",
       "      <td>2000.0</td>\n",
       "      <td>19/6/2007</td>\n",
       "      <td>Jlb7557</td>\n",
       "      <td>529.0</td>\n",
       "      <td>27.01%</td>\n",
       "      <td>925xx</td>\n",
       "      <td>CA</td>\n",
       "      <td>1 year</td>\n",
       "      <td>0</td>\n",
       "      <td>very bad</td>\n",
       "      <td>216</td>\n",
       "      <td>high</td>\n",
       "    </tr>\n",
       "    <tr>\n",
       "      <th>228</th>\n",
       "      <td>10000.0</td>\n",
       "      <td>21/6/2007</td>\n",
       "      <td>Loan Consolidation</td>\n",
       "      <td>635.0</td>\n",
       "      <td>13.35%</td>\n",
       "      <td>926xx</td>\n",
       "      <td>CA</td>\n",
       "      <td>1 year</td>\n",
       "      <td>0</td>\n",
       "      <td>poor</td>\n",
       "      <td>228</td>\n",
       "      <td>medium</td>\n",
       "    </tr>\n",
       "    <tr>\n",
       "      <th>396</th>\n",
       "      <td>9825.0</td>\n",
       "      <td>6/7/2007</td>\n",
       "      <td>acordars</td>\n",
       "      <td>576.0</td>\n",
       "      <td>14.28%</td>\n",
       "      <td>926xx</td>\n",
       "      <td>CA</td>\n",
       "      <td>2 years</td>\n",
       "      <td>0</td>\n",
       "      <td>very bad</td>\n",
       "      <td>396</td>\n",
       "      <td>medium</td>\n",
       "    </tr>\n",
       "  </tbody>\n",
       "</table>\n",
       "</div>"
      ],
      "text/plain": [
       "     Amount Requested Application Date              Loan Title  Risk_Score  \\\n",
       "32             7000.0        30/5/2007          big fat lender       638.0   \n",
       "38             6000.0        30/5/2007  Good Heart Bad Credit!       463.0   \n",
       "216            2000.0        19/6/2007                 Jlb7557       529.0   \n",
       "228           10000.0        21/6/2007      Loan Consolidation       635.0   \n",
       "396            9825.0         6/7/2007                acordars       576.0   \n",
       "\n",
       "    Debt-To-Income Ratio Zip Code State Employment Length  Policy Code  \\\n",
       "32                17.73%    941xx    CA          < 1 year            0   \n",
       "38                12.34%    953xx    CA            1 year            0   \n",
       "216               27.01%    925xx    CA            1 year            0   \n",
       "228               13.35%    926xx    CA            1 year            0   \n",
       "396               14.28%    926xx    CA           2 years            0   \n",
       "\n",
       "    risk_category  row_num     DTl  \n",
       "32           poor       32  medium  \n",
       "38       very bad       38  medium  \n",
       "216      very bad      216    high  \n",
       "228          poor      228  medium  \n",
       "396      very bad      396  medium  "
      ]
     },
     "execution_count": 112,
     "metadata": {},
     "output_type": "execute_result"
    }
   ],
   "source": [
    "#ONLY CA DATAFRAME \n",
    "ca.head()\n"
   ]
  },
  {
   "cell_type": "code",
   "execution_count": 113,
   "id": "0fc1b3cd",
   "metadata": {},
   "outputs": [],
   "source": [
    "df['row_num'] = np.arange(len(df))"
   ]
  },
  {
   "cell_type": "code",
   "execution_count": null,
   "id": "1043bf2a",
   "metadata": {},
   "outputs": [],
   "source": []
  },
  {
   "cell_type": "markdown",
   "id": "cfd97fe8",
   "metadata": {},
   "source": [
    "#### THE NUMEBR OF REJECTED APLICATIONS FOR THE STATE OF CA"
   ]
  },
  {
   "cell_type": "code",
   "execution_count": 114,
   "id": "280b115b",
   "metadata": {},
   "outputs": [
    {
     "data": {
      "text/plain": [
       "CA    133333\n",
       "Name: State, dtype: int64"
      ]
     },
     "execution_count": 114,
     "metadata": {},
     "output_type": "execute_result"
    }
   ],
   "source": [
    "ca['State'].value_counts()"
   ]
  },
  {
   "cell_type": "markdown",
   "id": "5c7cb2ed",
   "metadata": {},
   "source": [
    "#### Count the loans by state and see what percentage of the rejected loans came from California"
   ]
  },
  {
   "cell_type": "code",
   "execution_count": 115,
   "id": "a5d2afec",
   "metadata": {},
   "outputs": [
    {
     "data": {
      "text/html": [
       "<div>\n",
       "<style scoped>\n",
       "    .dataframe tbody tr th:only-of-type {\n",
       "        vertical-align: middle;\n",
       "    }\n",
       "\n",
       "    .dataframe tbody tr th {\n",
       "        vertical-align: top;\n",
       "    }\n",
       "\n",
       "    .dataframe thead th {\n",
       "        text-align: right;\n",
       "    }\n",
       "</style>\n",
       "<table border=\"1\" class=\"dataframe\">\n",
       "  <thead>\n",
       "    <tr style=\"text-align: right;\">\n",
       "      <th></th>\n",
       "      <th>row_num</th>\n",
       "    </tr>\n",
       "    <tr>\n",
       "      <th>State</th>\n",
       "      <th></th>\n",
       "    </tr>\n",
       "  </thead>\n",
       "  <tbody>\n",
       "    <tr>\n",
       "      <th>AK</th>\n",
       "      <td>0.26</td>\n",
       "    </tr>\n",
       "    <tr>\n",
       "      <th>AL</th>\n",
       "      <td>1.73</td>\n",
       "    </tr>\n",
       "    <tr>\n",
       "      <th>AR</th>\n",
       "      <td>1.20</td>\n",
       "    </tr>\n",
       "    <tr>\n",
       "      <th>AZ</th>\n",
       "      <td>2.12</td>\n",
       "    </tr>\n",
       "    <tr>\n",
       "      <th>CA</th>\n",
       "      <td>12.72</td>\n",
       "    </tr>\n",
       "  </tbody>\n",
       "</table>\n",
       "</div>"
      ],
      "text/plain": [
       "       row_num\n",
       "State         \n",
       "AK        0.26\n",
       "AL        1.73\n",
       "AR        1.20\n",
       "AZ        2.12\n",
       "CA       12.72"
      ]
     },
     "execution_count": 115,
     "metadata": {},
     "output_type": "execute_result"
    }
   ],
   "source": [
    "# pivot table\n",
    "table = pd.pivot_table(df, values ='row_num',\n",
    "                         columns =['State'], aggfunc = 'count')\n",
    "# transpose function \n",
    "# apply lambda function to convert to % of propotion \n",
    "table.transpose().apply(lambda x:100 * x / float(x.sum())).round(2).head()\n"
   ]
  },
  {
   "cell_type": "markdown",
   "id": "9f3bcc97",
   "metadata": {},
   "source": [
    "####  ca have 12.72% of rejected loans accross usa # need further investigation "
   ]
  },
  {
   "cell_type": "code",
   "execution_count": 116,
   "id": "3d763375",
   "metadata": {},
   "outputs": [
    {
     "data": {
      "text/plain": [
       "risk_category\n",
       "0            31445\n",
       "excellent      599\n",
       "fair         32452\n",
       "good         15407\n",
       "poor         22870\n",
       "very bad     26803\n",
       "very good     3757\n",
       "Name: State, dtype: int64"
      ]
     },
     "execution_count": 116,
     "metadata": {},
     "output_type": "execute_result"
    }
   ],
   "source": [
    "# CA number of rejected loans ! \n",
    "ca.groupby('risk_category').State.count()"
   ]
  },
  {
   "cell_type": "markdown",
   "id": "34cd21d3",
   "metadata": {},
   "source": [
    "##### IN CA THERE ATE 599 REJECTED APPLIACTIONS DESPITE THEY HAVE EXCLIENT RISK !"
   ]
  },
  {
   "cell_type": "markdown",
   "id": "678bfc47",
   "metadata": {},
   "source": [
    "#### Determine the number of rejected loans requested by thoserated as having an excellent credit score"
   ]
  },
  {
   "cell_type": "code",
   "execution_count": 117,
   "id": "3591465f",
   "metadata": {},
   "outputs": [
    {
     "data": {
      "text/html": [
       "<div>\n",
       "<style scoped>\n",
       "    .dataframe tbody tr th:only-of-type {\n",
       "        vertical-align: middle;\n",
       "    }\n",
       "\n",
       "    .dataframe tbody tr th {\n",
       "        vertical-align: top;\n",
       "    }\n",
       "\n",
       "    .dataframe thead th {\n",
       "        text-align: right;\n",
       "    }\n",
       "</style>\n",
       "<table border=\"1\" class=\"dataframe\">\n",
       "  <thead>\n",
       "    <tr style=\"text-align: right;\">\n",
       "      <th></th>\n",
       "      <th></th>\n",
       "      <th>row_num</th>\n",
       "    </tr>\n",
       "    <tr>\n",
       "      <th>DTl</th>\n",
       "      <th>risk_category</th>\n",
       "      <th></th>\n",
       "    </tr>\n",
       "  </thead>\n",
       "  <tbody>\n",
       "    <tr>\n",
       "      <th rowspan=\"7\" valign=\"top\">high</th>\n",
       "      <th>0</th>\n",
       "      <td>148566</td>\n",
       "    </tr>\n",
       "    <tr>\n",
       "      <th>excellent</th>\n",
       "      <td>1521</td>\n",
       "    </tr>\n",
       "    <tr>\n",
       "      <th>fair</th>\n",
       "      <td>155668</td>\n",
       "    </tr>\n",
       "    <tr>\n",
       "      <th>good</th>\n",
       "      <td>74141</td>\n",
       "    </tr>\n",
       "    <tr>\n",
       "      <th>poor</th>\n",
       "      <td>102090</td>\n",
       "    </tr>\n",
       "    <tr>\n",
       "      <th>very bad</th>\n",
       "      <td>105374</td>\n",
       "    </tr>\n",
       "    <tr>\n",
       "      <th>very good</th>\n",
       "      <td>13931</td>\n",
       "    </tr>\n",
       "    <tr>\n",
       "      <th rowspan=\"7\" valign=\"top\">low</th>\n",
       "      <th>0</th>\n",
       "      <td>56390</td>\n",
       "    </tr>\n",
       "    <tr>\n",
       "      <th>excellent</th>\n",
       "      <td>1141</td>\n",
       "    </tr>\n",
       "    <tr>\n",
       "      <th>fair</th>\n",
       "      <td>14548</td>\n",
       "    </tr>\n",
       "    <tr>\n",
       "      <th>good</th>\n",
       "      <td>8212</td>\n",
       "    </tr>\n",
       "    <tr>\n",
       "      <th>poor</th>\n",
       "      <td>15264</td>\n",
       "    </tr>\n",
       "    <tr>\n",
       "      <th>very bad</th>\n",
       "      <td>79252</td>\n",
       "    </tr>\n",
       "    <tr>\n",
       "      <th>very good</th>\n",
       "      <td>3883</td>\n",
       "    </tr>\n",
       "    <tr>\n",
       "      <th rowspan=\"7\" valign=\"top\">medium</th>\n",
       "      <th>0</th>\n",
       "      <td>62101</td>\n",
       "    </tr>\n",
       "    <tr>\n",
       "      <th>excellent</th>\n",
       "      <td>719</td>\n",
       "    </tr>\n",
       "    <tr>\n",
       "      <th>fair</th>\n",
       "      <td>60410</td>\n",
       "    </tr>\n",
       "    <tr>\n",
       "      <th>good</th>\n",
       "      <td>23705</td>\n",
       "    </tr>\n",
       "    <tr>\n",
       "      <th>poor</th>\n",
       "      <td>56706</td>\n",
       "    </tr>\n",
       "    <tr>\n",
       "      <th>very bad</th>\n",
       "      <td>59265</td>\n",
       "    </tr>\n",
       "    <tr>\n",
       "      <th>very good</th>\n",
       "      <td>5688</td>\n",
       "    </tr>\n",
       "  </tbody>\n",
       "</table>\n",
       "</div>"
      ],
      "text/plain": [
       "                      row_num\n",
       "DTl    risk_category         \n",
       "high   0               148566\n",
       "       excellent         1521\n",
       "       fair            155668\n",
       "       good             74141\n",
       "       poor            102090\n",
       "       very bad        105374\n",
       "       very good        13931\n",
       "low    0                56390\n",
       "       excellent         1141\n",
       "       fair             14548\n",
       "       good              8212\n",
       "       poor             15264\n",
       "       very bad         79252\n",
       "       very good         3883\n",
       "medium 0                62101\n",
       "       excellent          719\n",
       "       fair             60410\n",
       "       good             23705\n",
       "       poor             56706\n",
       "       very bad         59265\n",
       "       very good         5688"
      ]
     },
     "execution_count": 117,
     "metadata": {},
     "output_type": "execute_result"
    }
   ],
   "source": [
    "\n",
    "table = pd.pivot_table(df, values ='row_num',\n",
    "                         columns =['DTl','risk_category'], aggfunc = 'count')\n",
    "table.transpose()\n"
   ]
  },
  {
   "cell_type": "code",
   "execution_count": null,
   "id": "ba742751",
   "metadata": {},
   "outputs": [],
   "source": []
  },
  {
   "cell_type": "code",
   "execution_count": null,
   "id": "c59c2d51",
   "metadata": {},
   "outputs": [],
   "source": []
  }
 ],
 "metadata": {
  "kernelspec": {
   "display_name": "Python 3 (ipykernel)",
   "language": "python",
   "name": "python3"
  },
  "language_info": {
   "codemirror_mode": {
    "name": "ipython",
    "version": 3
   },
   "file_extension": ".py",
   "mimetype": "text/x-python",
   "name": "python",
   "nbconvert_exporter": "python",
   "pygments_lexer": "ipython3",
   "version": "3.9.7"
  }
 },
 "nbformat": 4,
 "nbformat_minor": 5
}
